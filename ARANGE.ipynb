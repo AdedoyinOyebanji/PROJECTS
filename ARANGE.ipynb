{
 "cells": [
  {
   "cell_type": "code",
   "execution_count": 1,
   "id": "cf00e3cb",
   "metadata": {},
   "outputs": [],
   "source": [
    "import numpy as np"
   ]
  },
  {
   "cell_type": "code",
   "execution_count": 2,
   "id": "5c06535f",
   "metadata": {},
   "outputs": [],
   "source": [
    "mat = np.arange(1,25).reshape(6,4)"
   ]
  },
  {
   "cell_type": "code",
   "execution_count": 3,
   "id": "740c852a",
   "metadata": {},
   "outputs": [
    {
     "data": {
      "text/plain": [
       "array([[ 1,  2,  3,  4],\n",
       "       [ 5,  6,  7,  8],\n",
       "       [ 9, 10, 11, 12],\n",
       "       [13, 14, 15, 16],\n",
       "       [17, 18, 19, 20],\n",
       "       [21, 22, 23, 24]])"
      ]
     },
     "execution_count": 3,
     "metadata": {},
     "output_type": "execute_result"
    }
   ],
   "source": [
    "mat"
   ]
  },
  {
   "cell_type": "code",
   "execution_count": 36,
   "id": "cab30bb3",
   "metadata": {},
   "outputs": [
    {
     "data": {
      "text/plain": [
       "array([[ 9, 10, 11, 12],\n",
       "       [13, 14, 15, 16]])"
      ]
     },
     "execution_count": 36,
     "metadata": {},
     "output_type": "execute_result"
    }
   ],
   "source": [
    "mat [[2,3]]"
   ]
  },
  {
   "cell_type": "code",
   "execution_count": 43,
   "id": "3b32c52f",
   "metadata": {},
   "outputs": [
    {
     "data": {
      "text/plain": [
       "array([[10, 11],\n",
       "       [14, 15]])"
      ]
     },
     "execution_count": 43,
     "metadata": {},
     "output_type": "execute_result"
    }
   ],
   "source": [
    "mat [[2,3],1:3]"
   ]
  },
  {
   "cell_type": "code",
   "execution_count": 49,
   "id": "ac65a75d",
   "metadata": {},
   "outputs": [
    {
     "data": {
      "text/plain": [
       "array([[ 5,  6,  7,  8],\n",
       "       [ 9, 10, 11, 12],\n",
       "       [13, 14, 15, 16],\n",
       "       [17, 18, 19, 20],\n",
       "       [21, 22, 23, 24]])"
      ]
     },
     "execution_count": 49,
     "metadata": {},
     "output_type": "execute_result"
    }
   ],
   "source": [
    "mat [[1, 2, 3, 4, 5]]"
   ]
  },
  {
   "cell_type": "code",
   "execution_count": 53,
   "id": "35080931",
   "metadata": {},
   "outputs": [
    {
     "data": {
      "text/plain": [
       "array([[ 6,  7,  8],\n",
       "       [10, 11, 12],\n",
       "       [14, 15, 16],\n",
       "       [18, 19, 20],\n",
       "       [22, 23, 24]])"
      ]
     },
     "execution_count": 53,
     "metadata": {},
     "output_type": "execute_result"
    }
   ],
   "source": [
    "mat [[1, 2, 3, 4, 5], 1:]"
   ]
  },
  {
   "cell_type": "code",
   "execution_count": 54,
   "id": "f1f77e25",
   "metadata": {},
   "outputs": [
    {
     "data": {
      "text/plain": [
       "array([[ 9, 10, 11, 12],\n",
       "       [17, 18, 19, 20]])"
      ]
     },
     "execution_count": 54,
     "metadata": {},
     "output_type": "execute_result"
    }
   ],
   "source": [
    "mat[[2,4]]"
   ]
  },
  {
   "cell_type": "code",
   "execution_count": 93,
   "id": "ac40e815",
   "metadata": {},
   "outputs": [
    {
     "data": {
      "text/plain": [
       "array([[10, 11, 12],\n",
       "       [18, 19, 20]])"
      ]
     },
     "execution_count": 93,
     "metadata": {},
     "output_type": "execute_result"
    }
   ],
   "source": [
    "mat[[2,4], 1:]"
   ]
  },
  {
   "cell_type": "code",
   "execution_count": 103,
   "id": "8fbf16d8",
   "metadata": {},
   "outputs": [
    {
     "data": {
      "text/plain": [
       "array([[10, 12],\n",
       "       [18, 20]])"
      ]
     },
     "execution_count": 103,
     "metadata": {},
     "output_type": "execute_result"
    }
   ],
   "source": [
    "mat[[2,4], 1::2]"
   ]
  },
  {
   "cell_type": "code",
   "execution_count": 83,
   "id": "8441323f",
   "metadata": {},
   "outputs": [
    {
     "data": {
      "text/plain": [
       "array([[ 1,  2,  3,  4],\n",
       "       [ 9, 10, 11, 12],\n",
       "       [17, 18, 19, 20]])"
      ]
     },
     "execution_count": 83,
     "metadata": {},
     "output_type": "execute_result"
    }
   ],
   "source": [
    "mat[[0,2,4]]"
   ]
  },
  {
   "cell_type": "code",
   "execution_count": 91,
   "id": "73c4f0b6",
   "metadata": {},
   "outputs": [
    {
     "data": {
      "text/plain": [
       "array([[ 1,  4],\n",
       "       [ 9, 12],\n",
       "       [17, 20]])"
      ]
     },
     "execution_count": 91,
     "metadata": {},
     "output_type": "execute_result"
    }
   ],
   "source": [
    "mat[[0,2,4],::3]"
   ]
  },
  {
   "cell_type": "code",
   "execution_count": 106,
   "id": "f9617db7",
   "metadata": {},
   "outputs": [
    {
     "data": {
      "text/plain": [
       "array([[ 2,  3],\n",
       "       [14, 15]])"
      ]
     },
     "execution_count": 106,
     "metadata": {},
     "output_type": "execute_result"
    }
   ],
   "source": [
    "mat[[0,3], 1:3]"
   ]
  },
  {
   "cell_type": "code",
   "execution_count": 107,
   "id": "b1f892eb",
   "metadata": {},
   "outputs": [
    {
     "data": {
      "text/plain": [
       "array([[ 5,  6,  7,  8],\n",
       "       [13, 14, 15, 16],\n",
       "       [17, 18, 19, 20]])"
      ]
     },
     "execution_count": 107,
     "metadata": {},
     "output_type": "execute_result"
    }
   ],
   "source": [
    "mat[[1,3,4]]"
   ]
  },
  {
   "cell_type": "code",
   "execution_count": 113,
   "id": "d857db4a",
   "metadata": {},
   "outputs": [
    {
     "data": {
      "text/plain": [
       "array([[ 5,  8],\n",
       "       [13, 16],\n",
       "       [17, 20]])"
      ]
     },
     "execution_count": 113,
     "metadata": {},
     "output_type": "execute_result"
    }
   ],
   "source": [
    "mat[[1,3,4], : :3]"
   ]
  },
  {
   "cell_type": "code",
   "execution_count": 114,
   "id": "7da77917",
   "metadata": {},
   "outputs": [],
   "source": [
    "#BOOLEAN"
   ]
  },
  {
   "cell_type": "code",
   "execution_count": 126,
   "id": "2dd32f03",
   "metadata": {},
   "outputs": [],
   "source": [
    "rand_num = np.random.uniform(1000,10000,200)"
   ]
  },
  {
   "cell_type": "code",
   "execution_count": 128,
   "id": "22db2f19",
   "metadata": {},
   "outputs": [
    {
     "data": {
      "text/plain": [
       "array([6045.33426211, 6873.07525206, 4922.3992786 , 4464.91316352,\n",
       "       8882.58429423, 2326.02452991, 7739.06215012, 4168.4892213 ,\n",
       "       8547.71620327, 7214.56747815, 7627.79564272, 7861.50801417,\n",
       "       7815.35160021, 1663.27954218, 4757.65052525, 9147.05838027,\n",
       "       8714.78948702, 8223.1235043 , 3664.77568859, 8554.86141432,\n",
       "       5104.4892766 , 8564.53460845, 8856.44334064, 7758.37209431,\n",
       "       1742.62332093, 6403.52982283, 1006.68355903, 3484.04624264,\n",
       "       3815.31294858, 1451.15334771, 2627.36090695, 5508.33404188,\n",
       "       5777.87990521, 1970.35332398, 3178.42126524, 5165.57171854,\n",
       "       1308.69488778, 1222.2874228 , 9856.34728549, 3373.908447  ,\n",
       "       4334.8637683 , 6953.44040048, 2165.0252939 , 9986.64554771,\n",
       "       6212.89475459, 9897.75912748, 2572.69249466, 3093.54405167,\n",
       "       3219.00467962, 7220.11795528, 1535.19479262, 7658.73931691,\n",
       "       3457.07276077, 8893.64994409, 4486.92282547, 7164.23828044,\n",
       "       6847.42365518, 1909.01446245, 8490.76529192, 4700.0078288 ,\n",
       "       3655.47685718, 8348.58803842, 2122.44007684, 5545.68076151,\n",
       "       2951.30177668, 9535.88870298, 5731.59324218, 3487.89619421,\n",
       "       2568.44850827, 1784.84814477, 2624.96819387, 8912.18514661,\n",
       "       6222.37689251, 2873.05251067, 8044.21355352, 2475.25482852,\n",
       "       7632.64559496, 6355.13913877, 9065.26028152, 9608.51347861,\n",
       "       1167.31143038, 2024.15005463, 8157.64805902, 1580.95795912,\n",
       "       2496.51357376, 4405.92192919, 9457.22630828, 2872.04386341,\n",
       "       4771.46720898, 5911.39172768, 8481.3718328 , 9319.37276051,\n",
       "       6990.91694155, 5659.1081333 , 9494.16977318, 7949.60614395,\n",
       "       7942.62474734, 5846.34883561, 5214.22274361, 1615.94102875,\n",
       "       1048.51899354, 6107.13634097, 9004.49180552, 4686.75442504,\n",
       "       5110.11706012, 6133.22369045, 9641.32885984, 1358.01159037,\n",
       "       6227.30519258, 9377.96278352, 6249.90809647, 2385.28652183,\n",
       "       1385.51946452, 5077.46779836, 8975.84683486, 8851.91645597,\n",
       "       5276.16091506, 9611.35743421, 6798.23425757, 6401.31361961,\n",
       "       7311.0386034 , 1092.02977588, 7286.86867853, 9810.28685366,\n",
       "       8031.28118297, 5452.42136231, 7689.90106977, 2055.89987963,\n",
       "       6799.53046557, 5706.1310967 , 2420.79836852, 9699.41436083,\n",
       "       6438.38276425, 9657.21191293, 7198.70972794, 6200.32876883,\n",
       "       6202.17062521, 6412.40416738, 5086.98803314, 2890.04695281,\n",
       "       7796.03137724, 8829.96235436, 3868.14390603, 7667.43619516,\n",
       "       7414.83555378, 3738.63859163, 8691.52610239, 9517.77987242,\n",
       "       6871.13803908, 3563.74392607, 3873.0224694 , 5128.98554047,\n",
       "       6524.32891357, 5369.20954114, 1660.83876787, 2344.63592961,\n",
       "       3520.81198787, 7653.98063826, 7151.37088542, 5823.79526104,\n",
       "       6369.21638968, 9654.82541983, 7400.52782507, 9125.10027223,\n",
       "       3404.22843589, 5249.93060751, 7844.53441301, 5964.89248274,\n",
       "       8565.94112368, 6605.44227876, 9929.54008985, 9629.78097063,\n",
       "       1544.49684406, 6236.63300511, 4108.64784078, 5119.92778494,\n",
       "       5542.23325692, 7054.37493854, 9122.38143249, 4755.19860195,\n",
       "       5444.66768494, 4224.79594589, 8035.58168014, 3688.56763433,\n",
       "       7632.90427187, 1205.1774583 , 4727.9421006 , 9592.87469327,\n",
       "       4471.54434421, 5549.65918875, 3318.91555616, 2757.65793138,\n",
       "       7427.98308884, 8339.3567519 , 2987.21216475, 7832.80842866,\n",
       "       5547.50326239, 9803.08737469, 6938.6929869 , 4556.92428546])"
      ]
     },
     "execution_count": 128,
     "metadata": {},
     "output_type": "execute_result"
    }
   ],
   "source": [
    "rand_num"
   ]
  },
  {
   "cell_type": "code",
   "execution_count": 149,
   "id": "be077a8a",
   "metadata": {},
   "outputs": [],
   "source": [
    "cheap = (1000-2499)\n",
    "fair = (2500-4999) \n",
    "expensive = (5000-10000)"
   ]
  },
  {
   "cell_type": "code",
   "execution_count": 164,
   "id": "f5898109",
   "metadata": {},
   "outputs": [
    {
     "data": {
      "text/plain": [
       "array([False, False, False, False, False, False, False, False, False,\n",
       "       False, False, False, False, False, False, False, False, False,\n",
       "       False, False, False, False, False, False, False, False, False,\n",
       "       False, False, False, False, False, False, False, False, False,\n",
       "       False, False, False, False, False, False, False, False, False,\n",
       "       False, False, False, False, False, False, False, False, False,\n",
       "       False, False, False, False, False, False, False, False, False,\n",
       "       False, False, False, False, False, False, False, False, False,\n",
       "       False, False, False, False, False, False, False, False, False,\n",
       "       False, False, False, False, False, False, False, False, False,\n",
       "       False, False, False, False, False, False, False, False, False,\n",
       "       False, False, False, False, False, False, False, False, False,\n",
       "       False, False, False, False, False, False, False, False, False,\n",
       "       False, False, False, False, False, False, False, False, False,\n",
       "       False, False, False, False, False, False, False, False, False,\n",
       "       False, False, False, False, False, False, False, False, False,\n",
       "       False, False, False, False, False, False, False, False, False,\n",
       "       False, False, False, False, False, False, False, False, False,\n",
       "       False, False, False, False, False, False, False, False, False,\n",
       "       False, False, False, False, False, False, False, False, False,\n",
       "       False, False, False, False, False, False, False, False, False,\n",
       "       False, False, False, False, False, False, False, False, False,\n",
       "       False, False])"
      ]
     },
     "execution_count": 164,
     "metadata": {},
     "output_type": "execute_result"
    }
   ],
   "source": [
    " rand_num == (1000-2499)\n",
    "   \n",
    "    \n"
   ]
  },
  {
   "cell_type": "code",
   "execution_count": 165,
   "id": "e5dde0e5",
   "metadata": {},
   "outputs": [
    {
     "data": {
      "text/plain": [
       "array([False, False, False, False, False, False, False, False, False,\n",
       "       False, False, False, False, False, False, False, False, False,\n",
       "       False, False, False, False, False, False, False, False, False,\n",
       "       False, False, False, False, False, False, False, False, False,\n",
       "       False, False, False, False, False, False, False, False, False,\n",
       "       False, False, False, False, False, False, False, False, False,\n",
       "       False, False, False, False, False, False, False, False, False,\n",
       "       False, False, False, False, False, False, False, False, False,\n",
       "       False, False, False, False, False, False, False, False, False,\n",
       "       False, False, False, False, False, False, False, False, False,\n",
       "       False, False, False, False, False, False, False, False, False,\n",
       "       False, False, False, False, False, False, False, False, False,\n",
       "       False, False, False, False, False, False, False, False, False,\n",
       "       False, False, False, False, False, False, False, False, False,\n",
       "       False, False, False, False, False, False, False, False, False,\n",
       "       False, False, False, False, False, False, False, False, False,\n",
       "       False, False, False, False, False, False, False, False, False,\n",
       "       False, False, False, False, False, False, False, False, False,\n",
       "       False, False, False, False, False, False, False, False, False,\n",
       "       False, False, False, False, False, False, False, False, False,\n",
       "       False, False, False, False, False, False, False, False, False,\n",
       "       False, False, False, False, False, False, False, False, False,\n",
       "       False, False])"
      ]
     },
     "execution_count": 165,
     "metadata": {},
     "output_type": "execute_result"
    }
   ],
   "source": [
    "rand_num == (2500-4999)"
   ]
  },
  {
   "cell_type": "code",
   "execution_count": 167,
   "id": "8b15c9bc",
   "metadata": {},
   "outputs": [
    {
     "data": {
      "text/plain": [
       "True"
      ]
     },
     "execution_count": 167,
     "metadata": {},
     "output_type": "execute_result"
    }
   ],
   "source": [
    "rand_num == (5000-10000)"
   ]
  },
  {
   "cell_type": "code",
   "execution_count": 186,
   "id": "1ae241cb",
   "metadata": {},
   "outputs": [],
   "source": [
    "t_cheap=np.add(1000, 2499)\n"
   ]
  },
  {
   "cell_type": "code",
   "execution_count": 184,
   "id": "84e54429",
   "metadata": {},
   "outputs": [
    {
     "data": {
      "text/plain": [
       "3499"
      ]
     },
     "execution_count": 184,
     "metadata": {},
     "output_type": "execute_result"
    }
   ],
   "source": [
    "t_cheap"
   ]
  },
  {
   "cell_type": "code",
   "execution_count": 188,
   "id": "b6299af4",
   "metadata": {},
   "outputs": [],
   "source": [
    "t_fair =np.add(2500,4999)"
   ]
  },
  {
   "cell_type": "code",
   "execution_count": 189,
   "id": "2173b0c2",
   "metadata": {},
   "outputs": [
    {
     "data": {
      "text/plain": [
       "7499"
      ]
     },
     "execution_count": 189,
     "metadata": {},
     "output_type": "execute_result"
    }
   ],
   "source": [
    "t_fair"
   ]
  },
  {
   "cell_type": "code",
   "execution_count": 190,
   "id": "ff3d16a1",
   "metadata": {},
   "outputs": [],
   "source": [
    "t_expensive =np.add(5000,10000)"
   ]
  },
  {
   "cell_type": "code",
   "execution_count": 191,
   "id": "4e1e30db",
   "metadata": {},
   "outputs": [
    {
     "data": {
      "text/plain": [
       "15000"
      ]
     },
     "execution_count": 191,
     "metadata": {},
     "output_type": "execute_result"
    }
   ],
   "source": [
    "t_expensive"
   ]
  },
  {
   "cell_type": "code",
   "execution_count": 205,
   "id": "3397c63a",
   "metadata": {},
   "outputs": [],
   "source": [
    "Total =  3499 + 7499 + 15000"
   ]
  },
  {
   "cell_type": "code",
   "execution_count": 206,
   "id": "c4d5aef1",
   "metadata": {},
   "outputs": [
    {
     "data": {
      "text/plain": [
       "25998"
      ]
     },
     "execution_count": 206,
     "metadata": {},
     "output_type": "execute_result"
    }
   ],
   "source": [
    "Total"
   ]
  },
  {
   "cell_type": "code",
   "execution_count": 207,
   "id": "991e50c6",
   "metadata": {},
   "outputs": [],
   "source": [
    "TOTAL = t_expensive + t_fair +t_cheap"
   ]
  },
  {
   "cell_type": "code",
   "execution_count": 208,
   "id": "686204b0",
   "metadata": {},
   "outputs": [
    {
     "data": {
      "text/plain": [
       "array([[22499.]])"
      ]
     },
     "execution_count": 208,
     "metadata": {},
     "output_type": "execute_result"
    }
   ],
   "source": [
    "TOTAL"
   ]
  },
  {
   "cell_type": "code",
   "execution_count": null,
   "id": "20d97a6d",
   "metadata": {},
   "outputs": [],
   "source": []
  }
 ],
 "metadata": {
  "kernelspec": {
   "display_name": "Python 3 (ipykernel)",
   "language": "python",
   "name": "python3"
  },
  "language_info": {
   "codemirror_mode": {
    "name": "ipython",
    "version": 3
   },
   "file_extension": ".py",
   "mimetype": "text/x-python",
   "name": "python",
   "nbconvert_exporter": "python",
   "pygments_lexer": "ipython3",
   "version": "3.9.7"
  }
 },
 "nbformat": 4,
 "nbformat_minor": 5
}
